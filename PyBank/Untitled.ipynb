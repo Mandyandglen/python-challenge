{
 "cells": [
  {
   "cell_type": "code",
   "execution_count": 16,
   "metadata": {},
   "outputs": [
    {
     "data": {
      "text/plain": [
       "['budget_data_1.csv', 'budget_data_2.csv']"
      ]
     },
     "execution_count": 16,
     "metadata": {},
     "output_type": "execute_result"
    }
   ],
   "source": [
    "import pandas as pd\n",
    "import numpy as np\n",
    "import os\n",
    "os.getcwd()\n",
    "import glob\n",
    "import datetime\n",
    "import re\n",
    "\n",
    "glob.glob('*csv')"
   ]
  },
  {
   "cell_type": "code",
   "execution_count": 17,
   "metadata": {},
   "outputs": [],
   "source": [
    "budgets = pd.DataFrame()\n",
    "for f in glob.glob('*csv'):\n",
    "    df = pd.read_csv(f)\n",
    "    budgets = budgets.append(df,ignore_index=True)"
   ]
  },
  {
   "cell_type": "code",
   "execution_count": 18,
   "metadata": {},
   "outputs": [
    {
     "name": "stdout",
     "output_type": "stream",
     "text": [
      "<class 'pandas.core.frame.DataFrame'>\n",
      "RangeIndex: 127 entries, 0 to 126\n",
      "Data columns (total 2 columns):\n",
      "Date       127 non-null object\n",
      "Revenue    127 non-null int64\n",
      "dtypes: int64(1), object(1)\n",
      "memory usage: 2.1+ KB\n"
     ]
    }
   ],
   "source": [
    "budgets.info()"
   ]
  },
  {
   "cell_type": "code",
   "execution_count": 19,
   "metadata": {},
   "outputs": [],
   "source": [
    "sum = budgets['Revenue'].sum(axis=0)"
   ]
  },
  {
   "cell_type": "code",
   "execution_count": 20,
   "metadata": {},
   "outputs": [
    {
     "name": "stdout",
     "output_type": "stream",
     "text": [
      "Total Revenue: $ 55945323\n"
     ]
    }
   ],
   "source": [
    "print ('Total Revenue: $',sum)"
   ]
  },
  {
   "cell_type": "code",
   "execution_count": 21,
   "metadata": {},
   "outputs": [
    {
     "name": "stdout",
     "output_type": "stream",
     "text": [
      "Number of Months:  1    86\n",
      "Name: Date, dtype: int64\n"
     ]
    }
   ],
   "source": [
    "df=df.groupby('Date').nunique()\n",
    "df.Date.value_counts()\n",
    "print ('Number of Months: ',df.Date.value_counts())"
   ]
  },
  {
   "cell_type": "code",
   "execution_count": 37,
   "metadata": {},
   "outputs": [
    {
     "data": {
      "text/plain": [
       "<bound method NDFrame.groupby of 0      1154293\n",
       "1       885773\n",
       "2      -448704\n",
       "3       563679\n",
       "4       555394\n",
       "5       631974\n",
       "6       957395\n",
       "7      1104047\n",
       "8       693464\n",
       "9       454932\n",
       "10      727272\n",
       "11      125016\n",
       "12      339251\n",
       "13       78523\n",
       "14      977084\n",
       "15     1158718\n",
       "16      332681\n",
       "17     -341227\n",
       "18      173826\n",
       "19      742611\n",
       "20     1189806\n",
       "21      607363\n",
       "22    -1172384\n",
       "23      587993\n",
       "24      295198\n",
       "25     -300390\n",
       "26      468995\n",
       "27      698452\n",
       "28      967828\n",
       "29     -454873\n",
       "        ...   \n",
       "97      339680\n",
       "98      809253\n",
       "99      924494\n",
       "100     998347\n",
       "101    -524902\n",
       "102     747765\n",
       "103     197783\n",
       "104     131625\n",
       "105    1016992\n",
       "106    -930753\n",
       "107     714387\n",
       "108     201005\n",
       "109     655535\n",
       "110     845108\n",
       "111     101736\n",
       "112     -93063\n",
       "113     984921\n",
       "114    -362343\n",
       "115     940457\n",
       "116     216399\n",
       "117     363036\n",
       "118     672160\n",
       "119     783533\n",
       "120    1079882\n",
       "121     288933\n",
       "122     894500\n",
       "123     411593\n",
       "124     789575\n",
       "125     355838\n",
       "126     437489\n",
       "Name: Revenue, Length: 127, dtype: int64>"
      ]
     },
     "execution_count": 37,
     "metadata": {},
     "output_type": "execute_result"
    }
   ],
   "source": [
    "budgets.Revenue.groupby"
   ]
  },
  {
   "cell_type": "code",
   "execution_count": null,
   "metadata": {},
   "outputs": [],
   "source": []
  }
 ],
 "metadata": {
  "kernelspec": {
   "display_name": "Python 3",
   "language": "python",
   "name": "python3"
  },
  "language_info": {
   "codemirror_mode": {
    "name": "ipython",
    "version": 3
   },
   "file_extension": ".py",
   "mimetype": "text/x-python",
   "name": "python",
   "nbconvert_exporter": "python",
   "pygments_lexer": "ipython3",
   "version": "3.6.4"
  }
 },
 "nbformat": 4,
 "nbformat_minor": 2
}
