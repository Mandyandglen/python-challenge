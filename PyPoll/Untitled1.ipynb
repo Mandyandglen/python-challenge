{
 "cells": [
  {
   "cell_type": "code",
   "execution_count": 1,
   "metadata": {},
   "outputs": [
    {
     "data": {
      "text/plain": [
       "['election_data_1.csv', 'election_data_2.csv']"
      ]
     },
     "execution_count": 1,
     "metadata": {},
     "output_type": "execute_result"
    }
   ],
   "source": [
    "import pandas as pd\n",
    "import numpy as np\n",
    "import os\n",
    "os.getcwd()\n",
    "import glob\n",
    "import datetime\n",
    "\n",
    "glob.glob('*csv')\n",
    "\n"
   ]
  },
  {
   "cell_type": "code",
   "execution_count": 2,
   "metadata": {},
   "outputs": [],
   "source": [
    "votersdf = pd.DataFrame()\n",
    "for f in glob.glob('*csv'):\n",
    "    df = pd.read_csv(f)\n",
    "    votersdf = votersdf.append(df,ignore_index=True)\n",
    "\n",
    "\n",
    "Total_votes = votersdf['Voter ID'].count()\n",
    "Candidate_votes=votersdf.groupby(['Candidate']).count()\n",
    "percentage_votes =(Candidate_votes.div(Total_votes, level='Total_votes') * 100)\n",
    "Winner = votersdf['Candidate'].max()\n"
   ]
  },
  {
   "cell_type": "code",
   "execution_count": 3,
   "metadata": {},
   "outputs": [
    {
     "name": "stderr",
     "output_type": "stream",
     "text": [
      "C:\\Users\\mandy\\Anaconda3\\lib\\site-packages\\ipykernel_launcher.py:5: FutureWarning: using a dict on a Series for aggregation\n",
      "is deprecated and will be removed in a future version\n",
      "  \"\"\"\n"
     ]
    }
   ],
   "source": [
    "#pd.options.display.float_format = '{:,.2f}'.format\n",
    "\n",
    "#votersdf['Voter ID'] = df.apply(lambda x: \"{:,}\".format(x['Voter ID']), axis=1)\n",
    "     \n",
    "df= votersdf.groupby(['Candidate'])['Candidate'].agg({'No':'count'})\n",
    "mask = df.groupby(level=0).agg('idxmax')\n",
    "df_count = df.loc[mask['No']]\n",
    "df_count = df_count.reset_index()\n"
   ]
  },
  {
   "cell_type": "code",
   "execution_count": 4,
   "metadata": {},
   "outputs": [
    {
     "name": "stdout",
     "output_type": "stream",
     "text": [
      "Election Results\n",
      "------------------------------\n",
      "Total Votes:  4324001\n",
      "------------------------------\n",
      "\n",
      "Output\n",
      "  Candidate       No\n",
      "0    Cordin    24090\n",
      "1    Correy   704200\n",
      "2      Khan  2218231\n",
      "3        Li   492940\n",
      "4  O'Tooley   105630\n",
      "5      Seth    40150\n",
      "6    Torres   353320\n",
      "7    Vestal   385440\n",
      "Total Votes:             Voter ID   County\n",
      "Candidate                   \n",
      "Cordin        24090    24090\n",
      "Correy       704200   704200\n",
      "Khan        2218231  2218231\n",
      "Li           492940   492940\n",
      "O'Tooley     105630   105630\n",
      "Seth          40150    40150\n",
      "Torres       353320   353320\n",
      "Vestal       385440   385440             Voter ID     County\n",
      "Candidate                      \n",
      "Cordin      0.557123   0.557123\n",
      "Correy     16.285843  16.285843\n",
      "Khan       51.300428  51.300428\n",
      "Li         11.400090  11.400090\n",
      "O'Tooley    2.442876   2.442876\n",
      "Seth        0.928538   0.928538\n",
      "Torres      8.171136   8.171136\n",
      "Vestal      8.913966   8.913966\n",
      "------------------------------\n",
      "Winner:  Vestal\n",
      "------------------------------\n"
     ]
    }
   ],
   "source": [
    "print ('Election Results')\n",
    "print ('------------------------------')\n",
    "print ('Total Votes: ',Total_votes)\n",
    "print ('------------------------------')\n",
    "print(\"\\nOutput\\n{}\".format(df_count))\n",
    "\n",
    "print ('Total Votes: ',Candidate_votes,percentage_votes)\n",
    "print ('------------------------------')\n",
    "print ('Winner: ',Winner)\n",
    "print ('------------------------------')\n"
   ]
  },
  {
   "cell_type": "code",
   "execution_count": null,
   "metadata": {},
   "outputs": [],
   "source": []
  }
 ],
 "metadata": {
  "kernelspec": {
   "display_name": "Python 3",
   "language": "python",
   "name": "python3"
  },
  "language_info": {
   "codemirror_mode": {
    "name": "ipython",
    "version": 3
   },
   "file_extension": ".py",
   "mimetype": "text/x-python",
   "name": "python",
   "nbconvert_exporter": "python",
   "pygments_lexer": "ipython3",
   "version": "3.6.4"
  }
 },
 "nbformat": 4,
 "nbformat_minor": 2
}
