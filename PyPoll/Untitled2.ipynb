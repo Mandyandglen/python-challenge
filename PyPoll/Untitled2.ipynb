{
 "cells": [
  {
   "cell_type": "code",
   "execution_count": 93,
   "metadata": {},
   "outputs": [],
   "source": [
    "import pandas as pd\n",
    "import numpy as np\n",
    "import os\n",
    "os.getcwd()\n",
    "import glob\n",
    "import datetime\n",
    "from numbers import Number\n",
    "\n",
    "glob.glob('*csv')\n",
    "\n",
    "votersdf = pd.DataFrame()\n",
    "for f in glob.glob('*csv'):\n",
    "    df = pd.read_csv(f)\n",
    "    votersdf = votersdf.append(df,ignore_index=True)\n",
    "\n",
    "\n",
    "Total_votes = votersdf['Voter ID'].count()\n",
    "Candidate_votes=votersdf.groupby(['Candidate']).count()\n",
    "percentage_votes =(Candidate_votes.div(Total_votes, level='Total_votes') * 100)\n"
   ]
  },
  {
   "cell_type": "code",
   "execution_count": 109,
   "metadata": {},
   "outputs": [],
   "source": [
    "df2=Candidate_votes\n",
    "df3=percentage_votes\n",
    "\n",
    "ordered=['Voter ID']\n",
    "df2=df2.reindex(columns=ordered)\n",
    "df2=df2.rename(columns = {'Voter ID':'Vote Count'})\n",
    "\n",
    "ordered=['Voter ID']\n",
    "df3=df3.reindex(columns=ordered)\n",
    "df3=df3.rename(columns = {'Voter ID':'Percentage'})\n",
    "\n",
    "decimals = pd.Series([1, ], index=['Percentage'])\n",
    "df3.round(2)\n",
    "\n",
    "df4 = pd.concat([df2, df3], axis=1, join='inner')"
   ]
  },
  {
   "cell_type": "code",
   "execution_count": 110,
   "metadata": {},
   "outputs": [
    {
     "name": "stdout",
     "output_type": "stream",
     "text": [
      "           Percentage\n",
      "Candidate            \n",
      "Cordin       0.557123\n",
      "Correy      16.285843\n",
      "Khan        51.300428\n",
      "Li          11.400090\n",
      "O'Tooley     2.442876\n",
      "Seth         0.928538\n",
      "Torres       8.171136\n",
      "Vestal       8.913966\n"
     ]
    }
   ],
   "source": [
    "print (df3)"
   ]
  },
  {
   "cell_type": "code",
   "execution_count": 111,
   "metadata": {},
   "outputs": [
    {
     "name": "stdout",
     "output_type": "stream",
     "text": [
      "           Vote Count  Percentage\n",
      "Candidate                        \n",
      "Cordin          24090    0.557123\n",
      "Correy         704200   16.285843\n",
      "Khan          2218231   51.300428\n",
      "Li             492940   11.400090\n",
      "O'Tooley       105630    2.442876\n",
      "Seth            40150    0.928538\n",
      "Torres         353320    8.171136\n",
      "Vestal         385440    8.913966\n"
     ]
    }
   ],
   "source": [
    "#df4 = pd.DataFrame(np.random.randn(4, 2), columns=['Vote Count', 'Percentage'])\n",
    "#df4.style.format(\"{:.2%}\")\n",
    "\n",
    "print (df4)"
   ]
  },
  {
   "cell_type": "code",
   "execution_count": 77,
   "metadata": {},
   "outputs": [],
   "source": [
    "#Winner = df2.loc[df2['Vote Count'].idxmax()]\n",
    "#print (df2)\n",
    "#df2.max()\n",
    "\n",
    "#df2.loc[df2['Vote Count'].argmax(), 'Vote Count']\n",
    "\n",
    "\n",
    "\n"
   ]
  },
  {
   "cell_type": "code",
   "execution_count": 78,
   "metadata": {},
   "outputs": [
    {
     "name": "stdout",
     "output_type": "stream",
     "text": [
      "Vote Count    2218231\n",
      "Name: Khan, dtype: int64\n"
     ]
    }
   ],
   "source": [
    "print (Winner)"
   ]
  },
  {
   "cell_type": "code",
   "execution_count": 79,
   "metadata": {},
   "outputs": [
    {
     "name": "stdout",
     "output_type": "stream",
     "text": [
      "           Vote Count\n",
      "Candidate            \n",
      "Cordin          24090\n",
      "Correy         704200\n",
      "Khan          2218231\n",
      "Li             492940\n",
      "O'Tooley       105630\n",
      "Seth            40150\n",
      "Torres         353320\n",
      "Vestal         385440\n"
     ]
    }
   ],
   "source": [
    "print (df2)"
   ]
  },
  {
   "cell_type": "code",
   "execution_count": null,
   "metadata": {},
   "outputs": [],
   "source": []
  }
 ],
 "metadata": {
  "kernelspec": {
   "display_name": "Python 3",
   "language": "python",
   "name": "python3"
  },
  "language_info": {
   "codemirror_mode": {
    "name": "ipython",
    "version": 3
   },
   "file_extension": ".py",
   "mimetype": "text/x-python",
   "name": "python",
   "nbconvert_exporter": "python",
   "pygments_lexer": "ipython3",
   "version": "3.6.4"
  }
 },
 "nbformat": 4,
 "nbformat_minor": 2
}
