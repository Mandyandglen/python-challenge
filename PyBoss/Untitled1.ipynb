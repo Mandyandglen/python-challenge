{
 "cells": [
  {
   "cell_type": "code",
   "execution_count": 20,
   "metadata": {},
   "outputs": [
    {
     "data": {
      "text/plain": [
       "['employee_data1.csv', 'employee_data2.csv']"
      ]
     },
     "execution_count": 20,
     "metadata": {},
     "output_type": "execute_result"
    }
   ],
   "source": [
    "import pandas as pd\n",
    "import numpy as np\n",
    "import os\n",
    "os.getcwd()\n",
    "import glob\n",
    "from datetime import datetime\n",
    "\n",
    "\n",
    "glob.glob('*csv')"
   ]
  },
  {
   "cell_type": "code",
   "execution_count": 21,
   "metadata": {},
   "outputs": [],
   "source": [
    "all_data = pd.DataFrame()\n",
    "for f in glob.glob('*csv'):\n",
    "    df = pd.read_csv(f)\n",
    "    all_data = all_data.append(df,ignore_index=True)"
   ]
  },
  {
   "cell_type": "code",
   "execution_count": 22,
   "metadata": {},
   "outputs": [],
   "source": [
    "us_state_abbrev=dict()\n",
    "us_state_abbrev = {\n",
    "    'Alabama': 'AL',\n",
    "    'Alaska': 'AK',\n",
    "    'Arizona': 'AZ',\n",
    "    'Arkansas': 'AR',\n",
    "    'California': 'CA',\n",
    "    'Colorado': 'CO',\n",
    "    'Connecticut': 'CT',\n",
    "    'Delaware': 'DE',\n",
    "    'Florida': 'FL',\n",
    "    'Georgia': 'GA',\n",
    "    'Hawaii': 'HI',\n",
    "    'Idaho': 'ID',\n",
    "    'Illinois': 'IL',\n",
    "    'Indiana': 'IN',\n",
    "    'Iowa': 'IA',\n",
    "    'Kansas': 'KS',\n",
    "    'Kentucky': 'KY',\n",
    "    'Louisiana': 'LA',\n",
    "    'Maine': 'ME',\n",
    "    'Maryland': 'MD',\n",
    "    'Massachusetts': 'MA',\n",
    "    'Michigan': 'MI',\n",
    "    'Minnesota': 'MN',\n",
    "    'Mississippi': 'MS',\n",
    "    'Missouri': 'MO',\n",
    "    'Montana': 'MT',\n",
    "    'Nebraska': 'NE',\n",
    "    'Nevada': 'NV',\n",
    "    'New Hampshire': 'NH',\n",
    "    'New Jersey': 'NJ',\n",
    "    'New Mexico': 'NM',\n",
    "    'New York': 'NY',\n",
    "    'North Carolina': 'NC',\n",
    "    'North Dakota': 'ND',\n",
    "    'Ohio': 'OH',\n",
    "    'Oklahoma': 'OK',\n",
    "    'Oregon': 'OR',\n",
    "    'Pennsylvania': 'PA',\n",
    "    'Rhode Island': 'RI',\n",
    "    'South Carolina': 'SC',\n",
    "    'South Dakota': 'SD',\n",
    "    'Tennessee': 'TN',\n",
    "    'Texas': 'TX',\n",
    "    'Utah': 'UT',\n",
    "    'Vermont': 'VT',\n",
    "    'Virginia': 'VA',\n",
    "    'Washington': 'WA',\n",
    "    'West Virginia': 'WV',\n",
    "    'Wisconsin': 'WI',\n",
    "    'Wyoming': 'WY',\n",
    "}"
   ]
  },
  {
   "cell_type": "code",
   "execution_count": 23,
   "metadata": {},
   "outputs": [],
   "source": [
    "all_data[['Name','Lastname']] = all_data.Name.str.split(' ',expand=True)\n",
    "\n",
    "def SecSSN(row):\n",
    "    last4 = row[-4:-1]\n",
    "    return \"***-**-\" + last4\n",
    "all_data['MaskedSSN']=all_data['SSN'].map(SecSSN)\n",
    "all_data['StateAbb'] = all_data.State.map(us_state_abbrev)\n",
    "all_data['DOB'] = all_data['DOB'].astype('datetime64[ns]')\n",
    "all_data['DOB'] =  pd.to_datetime(all_data['DOB'], format='%m/%d/%Y')"
   ]
  },
  {
   "cell_type": "code",
   "execution_count": 25,
   "metadata": {},
   "outputs": [
    {
     "name": "stdout",
     "output_type": "stream",
     "text": [
      "      Emp ID       Name    Lastname        DOB   MaskedSSN StateAbb\n",
      "0        214      Sarah     Simpson 1985-12-04  ***-**-816       FL\n",
      "1         15   Samantha        Lara 1993-09-08  ***-**-752       CO\n",
      "2        411      Stacy     Charles 1957-12-20  ***-**-852       PA\n",
      "3        166   Michelle         Roy 1978-07-29  ***-**-394       MI\n",
      "4         39     Joseph      Rogers 1985-03-28  ***-**-351       MN\n",
      "5        423      Erica       Hines 1975-10-13  ***-**-615       NY\n",
      "6        192        Zoe       Patel 1967-12-20  ***-**-081       WI\n",
      "7        162    Matthew      Harvey 1990-01-20  ***-**-034       TN\n",
      "8        131      Shawn       Davis 1961-07-21  ***-**-158       WV\n",
      "9         20      April     Baldwin 1961-08-07  ***-**-201       MO\n",
      "10       246    Vincent     Daniels 1972-01-06  ***-**-275       MT\n",
      "11       525        Ann      Fields 1960-08-22  ***-**-791       IA\n",
      "12       392    Jeffrey     Pearson 1979-05-05  ***-**-257       IL\n",
      "13       474    Heather     Johnson 1989-09-23  ***-**-090       GA\n",
      "14       478    Melissa    Fletcher 1979-03-14  ***-**-688       RI\n",
      "15       101   Kimberly     Alvarez 1984-09-04  ***-**-868       LA\n",
      "16        52     Monica     Jimenez 1988-04-08  ***-**-166       ND\n",
      "17       182     Steven     Johnson 1962-05-28  ***-**-707       NE\n",
      "18       637      Sarah        Wood 1972-06-15  ***-**-671       FL\n",
      "19       510      Jesus    Petersen 1958-03-28  ***-**-077       OK\n",
      "20       122     Rhonda     Rosales 1963-04-10  ***-**-028       AL\n",
      "21       294     Nicole  Richardson 1981-09-09  ***-**-522       LA\n",
      "22       327   Jennifer      Mendez 1977-07-20  ***-**-199       OR\n",
      "23       145     Sandra       Petty 1981-01-30  ***-**-762       NC\n",
      "24       565    Michael      Hester 1987-04-13  ***-**-683       SD\n",
      "25       590     Joseph       Brown 1982-08-28  ***-**-474       NH\n",
      "26       340   Michelle      Cooper 1993-08-23  ***-**-230       WA\n",
      "27       176    Barbara        Wise 1991-12-15  ***-**-766       IN\n",
      "28        63      Carol     Rosales 1984-07-20  ***-**-490       NJ\n",
      "29       121       Mark       Villa 1969-02-24  ***-**-220       MS\n",
      "...      ...        ...         ...        ...         ...      ...\n",
      "2740     804       Gail     Johnson 1990-06-06  ***-**-361       CT\n",
      "2741     212     Connie       Olsen 1988-12-30  ***-**-686       OH\n",
      "2742     417    Michael      Church 1959-11-27  ***-**-507       KY\n",
      "2743     555       Mike      Wilson 1962-12-23  ***-**-731       MN\n",
      "2744     519    Crystal      Fisher 1972-11-10  ***-**-974       ID\n",
      "2745     232    Charles      Duncan 1980-02-14  ***-**-985       NC\n",
      "2746     898        Roy     Perkins 1988-10-10  ***-**-809       FL\n",
      "2747      24     Dustin     Jackson 1979-01-06  ***-**-234       HI\n",
      "2748    2086      Laura   Contreras 1962-05-17  ***-**-654       WY\n",
      "2749    1709    Timothy      Morton 1993-07-02  ***-**-387       SD\n",
      "2750    1606       John    Morrison 1984-01-10  ***-**-447       MA\n",
      "2751    1917     Joseph        Wood 1957-11-02  ***-**-534       FL\n",
      "2752     928      Oscar      Romero 1987-03-08  ***-**-563       IL\n",
      "2753    1175    Shannon      Wilson 1969-11-19  ***-**-397       UT\n",
      "2754    1500      James   Armstrong 1975-07-23  ***-**-455       ND\n",
      "2755     848     Ronnie     Ellison 1980-04-22  ***-**-226       WA\n",
      "2756     216     Joshua      Wilcox 1986-09-27  ***-**-715       OK\n",
      "2757     274      Bryan       Rocha 1964-02-03  ***-**-899       AZ\n",
      "2758     756    Matthew       Flynn 1957-10-05  ***-**-138       VA\n",
      "2759    1925     Amanda      Turner 1960-12-28  ***-**-706       MN\n",
      "2760    1731     Steven       White 1959-03-05  ***-**-489       MA\n",
      "2761    1019     Andrea       Berry 1989-02-14  ***-**-629       AL\n",
      "2762    1155      Shawn       Burke 1960-01-01  ***-**-907       CA\n",
      "2763     449     Rhonda      Wilson 1987-01-08  ***-**-083       VT\n",
      "2764     115        Jay        Hart 1963-05-14  ***-**-625       CT\n",
      "2765    1636     Ashley    Martinez 1986-04-13  ***-**-538       NV\n",
      "2766      84  Elizabeth    Johnston 1974-08-03  ***-**-293       IL\n",
      "2767    1478     Andrew     Acevedo 1991-06-29  ***-**-696       MT\n",
      "2768     384   Michelle       Lynch 1972-03-28  ***-**-804       PA\n",
      "2769    1582   Cristian       Gibbs 1963-02-08  ***-**-947       CT\n",
      "\n",
      "[2770 rows x 6 columns]\n"
     ]
    }
   ],
   "source": [
    "ordered=['Emp ID', 'Name','Lastname','DOB', 'MaskedSSN', 'StateAbb']\n",
    "all_data2=all_data.reindex(columns=ordered)\n",
    "\n",
    "print (all_data2)"
   ]
  },
  {
   "cell_type": "code",
   "execution_count": null,
   "metadata": {},
   "outputs": [],
   "source": []
  }
 ],
 "metadata": {
  "kernelspec": {
   "display_name": "Python 3",
   "language": "python",
   "name": "python3"
  },
  "language_info": {
   "codemirror_mode": {
    "name": "ipython",
    "version": 3
   },
   "file_extension": ".py",
   "mimetype": "text/x-python",
   "name": "python",
   "nbconvert_exporter": "python",
   "pygments_lexer": "ipython3",
   "version": "3.6.4"
  }
 },
 "nbformat": 4,
 "nbformat_minor": 2
}
